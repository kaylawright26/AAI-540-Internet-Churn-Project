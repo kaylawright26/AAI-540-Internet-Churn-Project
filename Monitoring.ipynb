{
 "cells": [
  {
   "cell_type": "markdown",
   "id": "7cf0e81a-deae-4d4d-9502-a6bf3af6cb7a",
   "metadata": {},
   "source": [
    "# Model Monitoring"
   ]
  },
  {
   "cell_type": "markdown",
   "id": "70e86321-6393-4c51-a3d2-66f67ec91593",
   "metadata": {},
   "source": [
    "## Importing Libraries and Setting up Paths"
   ]
  },
  {
   "cell_type": "code",
   "execution_count": 2,
   "id": "05156c5b-1435-43ee-8c84-ff545b42c076",
   "metadata": {
    "tags": []
   },
   "outputs": [
    {
     "name": "stdout",
     "output_type": "stream",
     "text": [
      "sagemaker.config INFO - Not applying SDK defaults from location: /etc/xdg/sagemaker/config.yaml\n",
      "sagemaker.config INFO - Not applying SDK defaults from location: /root/.config/sagemaker/config.yaml\n",
      "CPU times: user 1.23 s, sys: 267 ms, total: 1.5 s\n",
      "Wall time: 1.5 s\n"
     ]
    }
   ],
   "source": [
    "%%time\n",
    "\n",
    "from datetime import datetime, timedelta, timezone\n",
    "import json\n",
    "import os\n",
    "import re\n",
    "import boto3\n",
    "from time import sleep\n",
    "from threading import Thread\n",
    "\n",
    "import pandas as pd\n",
    "\n",
    "from sagemaker import get_execution_role, session, Session, image_uris\n",
    "from sagemaker.s3 import S3Downloader, S3Uploader\n",
    "from sagemaker.processing import ProcessingJob\n",
    "from sagemaker.serializers import CSVSerializer\n",
    "\n",
    "from sagemaker.model import Model\n",
    "from sagemaker.model_monitor import DataCaptureConfig\n",
    "\n",
    "session = Session()"
   ]
  },
  {
   "cell_type": "code",
   "execution_count": 16,
   "id": "bf2bfe9c-4178-434d-879a-9a4fb9e3be80",
   "metadata": {
    "tags": []
   },
   "outputs": [],
   "source": [
    "from sagemaker.model_monitor import ModelQualityMonitor\n",
    "from sagemaker.model_monitor import EndpointInput\n",
    "from sagemaker.model_monitor.dataset_format import DatasetFormat"
   ]
  },
  {
   "cell_type": "code",
   "execution_count": 3,
   "id": "323064ea-4165-4832-be8f-68d9d1970cb7",
   "metadata": {
    "tags": []
   },
   "outputs": [
    {
     "name": "stdout",
     "output_type": "stream",
     "text": [
      "RoleArn: arn:aws:iam::035349649198:role/LabRole\n",
      "Region: us-east-1\n"
     ]
    }
   ],
   "source": [
    "# Get Execution role\n",
    "role = get_execution_role()\n",
    "print(\"RoleArn:\", role)\n",
    "\n",
    "region = session.boto_region_name\n",
    "print(\"Region:\", region)"
   ]
  },
  {
   "cell_type": "code",
   "execution_count": 4,
   "id": "a2ad2bb7-9571-43cb-a02a-cf07687b01be",
   "metadata": {
    "tags": []
   },
   "outputs": [
    {
     "name": "stdout",
     "output_type": "stream",
     "text": [
      "Churn Bucket: sagemaker-us-east-1-035349649198\n",
      "Image URI: 156813124566.dkr.ecr.us-east-1.amazonaws.com/sagemaker-model-monitor-analyzer\n",
      "Capture path: s3://sagemaker-us-east-1-035349649198/sagemaker/InternetChurn-ModelQualityMonitor/datacapture\n",
      "Ground truth path: s3://sagemaker-us-east-1-035349649198/sagemaker/InternetChurn-ModelQualityMonitor/ground_truth_data/2024-02-28-01-50-14\n",
      "Report path: s3://sagemaker-us-east-1-035349649198/sagemaker/InternetChurn-ModelQualityMonitor/reports\n"
     ]
    }
   ],
   "source": [
    "bucket = session.default_bucket()\n",
    "print(\"Churn Bucket:\", bucket)\n",
    "prefix = \"sagemaker/InternetChurn-ModelQualityMonitor\"\n",
    "\n",
    "##S3 prefixes\n",
    "data_capture_prefix = f\"{prefix}/datacapture\"\n",
    "s3_capture_upload_path = f\"s3://{bucket}/{data_capture_prefix}\"\n",
    "\n",
    "ground_truth_upload_path = (\n",
    "    f\"s3://{bucket}/{prefix}/ground_truth_data/{datetime.now():%Y-%m-%d-%H-%M-%S}\"\n",
    ")\n",
    "\n",
    "reports_prefix = f\"{prefix}/reports\"\n",
    "s3_report_path = f\"s3://{bucket}/{reports_prefix}\"\n",
    "\n",
    "##Get the model monitor image\n",
    "monitor_image_uri = image_uris.retrieve(framework=\"model-monitor\", region=region)\n",
    "\n",
    "print(\"Image URI:\", monitor_image_uri)\n",
    "print(f\"Capture path: {s3_capture_upload_path}\")\n",
    "print(f\"Ground truth path: {ground_truth_upload_path}\")\n",
    "print(f\"Report path: {s3_report_path}\")"
   ]
  },
  {
   "cell_type": "code",
   "execution_count": 5,
   "id": "5348f5af-10b3-4a3d-9b09-37587222b872",
   "metadata": {
    "tags": []
   },
   "outputs": [
    {
     "data": {
      "text/plain": [
       "'s3://sagemaker-us-east-1-035349649198/xgboost-project/xgb_output/xgb-2024-02-23-01-25-43/xgb-2024-02-23-01-25-43/output/model.tar.gz'"
      ]
     },
     "execution_count": 5,
     "metadata": {},
     "output_type": "execute_result"
    }
   ],
   "source": [
    "model_url = 's3://sagemaker-us-east-1-035349649198/xgboost-project/xgb_output/xgb-2024-02-23-01-25-43/xgb-2024-02-23-01-25-43/output/model.tar.gz'\n",
    "model_url"
   ]
  },
  {
   "cell_type": "markdown",
   "id": "23c04221-faff-4cad-9eed-b68b58931cd4",
   "metadata": {},
   "source": [
    "## Deploying Trained XGBoost Model"
   ]
  },
  {
   "cell_type": "code",
   "execution_count": 6,
   "id": "ee269bf8-fad3-43e1-8fe4-8de01b047ea3",
   "metadata": {
    "tags": []
   },
   "outputs": [],
   "source": [
    "model_name = f\"xgb-churn-pred-model-monitor-{datetime.utcnow():%Y-%m-%d-%H%M}\"\n",
    "\n",
    "# Model version 1.7-1\n",
    "image_uri = image_uris.retrieve(framework=\"xgboost\", version=\"1.7-1\", region=region)\n",
    "\n",
    "model = Model(image_uri=image_uri, model_data=model_url, role=role, sagemaker_session=session)"
   ]
  },
  {
   "cell_type": "code",
   "execution_count": 7,
   "id": "2ac642ad-c637-4da3-9c75-d34269804306",
   "metadata": {
    "tags": []
   },
   "outputs": [
    {
     "name": "stdout",
     "output_type": "stream",
     "text": [
      "EndpointName = xgb-churn-model-quality-monitor-2024-02-28-0150\n",
      "-----!"
     ]
    }
   ],
   "source": [
    "# Creating Endpoint\n",
    "endpoint_name = f\"xgb-churn-model-quality-monitor-{datetime.utcnow():%Y-%m-%d-%H%M}\"\n",
    "print(\"EndpointName =\", endpoint_name)\n",
    "\n",
    "# Enable Data Capture\n",
    "data_capture_config = DataCaptureConfig(\n",
    "    enable_capture=True, sampling_percentage=100, destination_s3_uri=s3_capture_upload_path\n",
    ")\n",
    "\n",
    "# Deploy pretrained model\n",
    "model.deploy(\n",
    "    initial_instance_count=1,\n",
    "    instance_type=\"ml.m5.xlarge\",\n",
    "    endpoint_name=endpoint_name,\n",
    "    data_capture_config=data_capture_config,\n",
    ")"
   ]
  },
  {
   "cell_type": "code",
   "execution_count": 8,
   "id": "16509ac1-c408-4d87-bdab-82873e019be4",
   "metadata": {
    "tags": []
   },
   "outputs": [],
   "source": [
    "from sagemaker.predictor import Predictor\n",
    "# Creating predictor object from endpoint just invoked\n",
    "predictor = Predictor(endpoint_name=endpoint_name, sagemaker_session=session, serializer=CSVSerializer())"
   ]
  },
  {
   "cell_type": "markdown",
   "id": "4a2b3b83-2eba-4f86-b188-775c45915362",
   "metadata": {},
   "source": [
    "## Setting up Baseline Dataset"
   ]
  },
  {
   "cell_type": "code",
   "execution_count": 9,
   "id": "a2500f25-08d2-4540-bfd3-3a1a4b867b7f",
   "metadata": {
    "tags": []
   },
   "outputs": [],
   "source": [
    "# Choosing a value for cutoff that is considered a customer will churn\n",
    "churn_cutoff = 0.7\n",
    "# Creating empty csv to fill with probability and predictions\n",
    "validate_dataset = \"validations_predictions.csv\""
   ]
  },
  {
   "cell_type": "code",
   "execution_count": 10,
   "id": "9da6c1a7-a583-47e4-bba3-b2096c5a3f6b",
   "metadata": {
    "tags": []
   },
   "outputs": [
    {
     "name": "stdout",
     "output_type": "stream",
     "text": [
      "........................................................................................................................................................................................................\n",
      "Done!\n"
     ]
    }
   ],
   "source": [
    "# Prof instructed needed 200 samples to compute sd\n",
    "limit = 200 \n",
    "i = 0\n",
    "# Opening validation data\n",
    "with open(f\"test_data/{validate_dataset}\", \"w\") as baseline_file:\n",
    "    # Writing probability and prediciton\n",
    "    baseline_file.write(\"probability,prediction,label\\n\") \n",
    "    with open(\"test_data/val (5).csv\", \"r\") as f:\n",
    "        for row in f:\n",
    "            (label, input_cols) = row.split(\",\", 1)\n",
    "            #print(f\"Sending data for prediction: {input_cols}\")\n",
    "            #output = predictor.predict(input_cols)\n",
    "            #print(output)\n",
    "            # Getting probability with predictor object\n",
    "            probability = float(predictor.predict(input_cols))\n",
    "            # Getting prediction with cutoff value\n",
    "            prediction = \"1\" if probability > churn_cutoff else \"0\"\n",
    "            baseline_file.write(f\"{probability},{prediction},{label}\\n\")\n",
    "            i += 1\n",
    "            if i > limit:\n",
    "                break\n",
    "            print(\".\", end=\"\", flush=True)\n",
    "            sleep(0.5)\n",
    "print()\n",
    "print(\"Done!\")"
   ]
  },
  {
   "cell_type": "code",
   "execution_count": 11,
   "id": "665e95d8-8daf-4836-8e81-6f531e18e4f1",
   "metadata": {
    "tags": []
   },
   "outputs": [
    {
     "name": "stdout",
     "output_type": "stream",
     "text": [
      "probability,prediction,label\n",
      "0.9991006851196289,1,1\n",
      "0.18579556047916412,0,0\n",
      "0.7986509799957275,1,1\n",
      "0.012581335380673409,0,0\n",
      "0.6700054407119751,0,1\n",
      "0.5484716296195984,0,1\n",
      "0.025470763444900513,0,0\n",
      "0.9689635634422302,1,1\n",
      "0.10012273490428925,0,0\n"
     ]
    }
   ],
   "source": [
    "# Ensuring file has populated\n",
    "!head test_data/validations_predictions.csv"
   ]
  },
  {
   "cell_type": "code",
   "execution_count": 14,
   "id": "bf6a201e-4957-4241-89f0-0fede487f184",
   "metadata": {
    "tags": []
   },
   "outputs": [
    {
     "name": "stdout",
     "output_type": "stream",
     "text": [
      "Baseline data uri: s3://sagemaker-us-east-1-035349649198/sagemaker/InternetChurn-ModelQualityMonitor/baselining/data\n",
      "Baseline results uri: s3://sagemaker-us-east-1-035349649198/sagemaker/InternetChurn-ModelQualityMonitor/baselining/results\n"
     ]
    }
   ],
   "source": [
    "# Uploading predictions using validation set to get model quality\n",
    "# baseline stats\n",
    "baseline_prefix = prefix + \"/baselining\"\n",
    "baseline_data_prefix = baseline_prefix + \"/data\"\n",
    "baseline_results_prefix = baseline_prefix + \"/results\"\n",
    "# Setting up path\n",
    "baseline_data_uri = f\"s3://{bucket}/{baseline_data_prefix}\"\n",
    "baseline_results_uri = f\"s3://{bucket}/{baseline_results_prefix}\"\n",
    "print(f\"Baseline data uri: {baseline_data_uri}\")\n",
    "print(f\"Baseline results uri: {baseline_results_uri}\")"
   ]
  },
  {
   "cell_type": "code",
   "execution_count": 15,
   "id": "d0268496-a68c-4616-8b0a-b1298b8fa348",
   "metadata": {
    "tags": []
   },
   "outputs": [
    {
     "data": {
      "text/plain": [
       "'s3://sagemaker-us-east-1-035349649198/sagemaker/InternetChurn-ModelQualityMonitor/baselining/data/validations_predictions.csv'"
      ]
     },
     "execution_count": 15,
     "metadata": {},
     "output_type": "execute_result"
    }
   ],
   "source": [
    "# Uploading baseline\n",
    "baseline_dataset_uri = S3Uploader.upload(f\"test_data/{validate_dataset}\", baseline_data_uri)\n",
    "baseline_dataset_uri"
   ]
  },
  {
   "cell_type": "markdown",
   "id": "defd69bf-44f5-4edb-bf96-5ec1d1700301",
   "metadata": {},
   "source": [
    "## Create Baseline Job"
   ]
  },
  {
   "cell_type": "code",
   "execution_count": 17,
   "id": "9d165672-2313-4036-9b7b-125f108357e7",
   "metadata": {
    "tags": []
   },
   "outputs": [],
   "source": [
    "# Setting up model monitor object \n",
    "churn_model_quality_monitor = ModelQualityMonitor(\n",
    "    role=role,\n",
    "    instance_count=1,\n",
    "    instance_type=\"ml.m5.xlarge\",\n",
    "    volume_size_in_gb=20,\n",
    "    max_runtime_in_seconds=1800,\n",
    "    sagemaker_session=session,)"
   ]
  },
  {
   "cell_type": "code",
   "execution_count": 18,
   "id": "c987f505-3fd9-42eb-aa0f-c44e67197cb2",
   "metadata": {
    "tags": []
   },
   "outputs": [],
   "source": [
    "# Naming the baseline job\n",
    "baseline_job_name = f\"xgb-internet-churn-model-baseline-job-{datetime.utcnow():%Y-%m-%d-%H%M}\""
   ]
  },
  {
   "cell_type": "code",
   "execution_count": 19,
   "id": "25834985-f64d-4f70-a72b-fae44be166a2",
   "metadata": {
    "tags": []
   },
   "outputs": [
    {
     "name": "stderr",
     "output_type": "stream",
     "text": [
      "INFO:sagemaker:Creating processing-job with name xgb-internet-churn-model-baseline-job-2024-02-28-0159\n"
     ]
    },
    {
     "name": "stdout",
     "output_type": "stream",
     "text": [
      "...............................................................................!"
     ]
    }
   ],
   "source": [
    "# Execute job, specifying binary classification and prediction/probability columns\n",
    "job = churn_model_quality_monitor.suggest_baseline(\n",
    "    job_name=baseline_job_name,\n",
    "    baseline_dataset=baseline_dataset_uri,\n",
    "    dataset_format=DatasetFormat.csv(header=True),\n",
    "    output_s3_uri=baseline_results_uri,\n",
    "    problem_type=\"BinaryClassification\",\n",
    "    inference_attribute=\"prediction\",\n",
    "    probability_attribute=\"probability\",\n",
    "    ground_truth_attribute=\"label\",\n",
    ")\n",
    "job.wait(logs=False)"
   ]
  },
  {
   "cell_type": "markdown",
   "id": "1c7df6cf-77d3-4126-b711-6b75605bf20a",
   "metadata": {},
   "source": [
    "## Viewing Baseline Job"
   ]
  },
  {
   "cell_type": "code",
   "execution_count": 20,
   "id": "5a4117e7-feef-4639-b6f3-45ade309fa57",
   "metadata": {
    "tags": []
   },
   "outputs": [],
   "source": [
    "# Naming baseline ob\n",
    "baseline_job = churn_model_quality_monitor.latest_baselining_job"
   ]
  },
  {
   "cell_type": "code",
   "execution_count": 21,
   "id": "5430d5ac-2203-430e-9634-bbb268de1e52",
   "metadata": {
    "tags": []
   },
   "outputs": [
    {
     "data": {
      "text/html": [
       "<div>\n",
       "<style scoped>\n",
       "    .dataframe tbody tr th:only-of-type {\n",
       "        vertical-align: middle;\n",
       "    }\n",
       "\n",
       "    .dataframe tbody tr th {\n",
       "        vertical-align: top;\n",
       "    }\n",
       "\n",
       "    .dataframe thead th {\n",
       "        text-align: right;\n",
       "    }\n",
       "</style>\n",
       "<table border=\"1\" class=\"dataframe\">\n",
       "  <thead>\n",
       "    <tr style=\"text-align: right;\">\n",
       "      <th></th>\n",
       "      <th>0</th>\n",
       "    </tr>\n",
       "  </thead>\n",
       "  <tbody>\n",
       "    <tr>\n",
       "      <th>confusion_matrix.0.0</th>\n",
       "      <td>87</td>\n",
       "    </tr>\n",
       "    <tr>\n",
       "      <th>confusion_matrix.0.1</th>\n",
       "      <td>5</td>\n",
       "    </tr>\n",
       "    <tr>\n",
       "      <th>confusion_matrix.1.0</th>\n",
       "      <td>20</td>\n",
       "    </tr>\n",
       "    <tr>\n",
       "      <th>confusion_matrix.1.1</th>\n",
       "      <td>89</td>\n",
       "    </tr>\n",
       "    <tr>\n",
       "      <th>recall.value</th>\n",
       "      <td>0.816514</td>\n",
       "    </tr>\n",
       "    <tr>\n",
       "      <th>recall.standard_deviation</th>\n",
       "      <td>0.020083</td>\n",
       "    </tr>\n",
       "    <tr>\n",
       "      <th>precision.value</th>\n",
       "      <td>0.946809</td>\n",
       "    </tr>\n",
       "    <tr>\n",
       "      <th>precision.standard_deviation</th>\n",
       "      <td>0.013595</td>\n",
       "    </tr>\n",
       "    <tr>\n",
       "      <th>accuracy.value</th>\n",
       "      <td>0.875622</td>\n",
       "    </tr>\n",
       "    <tr>\n",
       "      <th>accuracy.standard_deviation</th>\n",
       "      <td>0.011653</td>\n",
       "    </tr>\n",
       "    <tr>\n",
       "      <th>recall_best_constant_classifier.value</th>\n",
       "      <td>0.0</td>\n",
       "    </tr>\n",
       "    <tr>\n",
       "      <th>recall_best_constant_classifier.standard_deviation</th>\n",
       "      <td>0.0</td>\n",
       "    </tr>\n",
       "    <tr>\n",
       "      <th>precision_best_constant_classifier.value</th>\n",
       "      <td>0.0</td>\n",
       "    </tr>\n",
       "    <tr>\n",
       "      <th>precision_best_constant_classifier.standard_deviation</th>\n",
       "      <td>0.0</td>\n",
       "    </tr>\n",
       "    <tr>\n",
       "      <th>accuracy_best_constant_classifier.value</th>\n",
       "      <td>0.457711</td>\n",
       "    </tr>\n",
       "    <tr>\n",
       "      <th>accuracy_best_constant_classifier.standard_deviation</th>\n",
       "      <td>0.020693</td>\n",
       "    </tr>\n",
       "    <tr>\n",
       "      <th>true_positive_rate.value</th>\n",
       "      <td>0.816514</td>\n",
       "    </tr>\n",
       "    <tr>\n",
       "      <th>true_positive_rate.standard_deviation</th>\n",
       "      <td>0.020083</td>\n",
       "    </tr>\n",
       "    <tr>\n",
       "      <th>true_negative_rate.value</th>\n",
       "      <td>0.945652</td>\n",
       "    </tr>\n",
       "    <tr>\n",
       "      <th>true_negative_rate.standard_deviation</th>\n",
       "      <td>0.009996</td>\n",
       "    </tr>\n",
       "    <tr>\n",
       "      <th>false_positive_rate.value</th>\n",
       "      <td>0.054348</td>\n",
       "    </tr>\n",
       "    <tr>\n",
       "      <th>false_positive_rate.standard_deviation</th>\n",
       "      <td>0.009996</td>\n",
       "    </tr>\n",
       "    <tr>\n",
       "      <th>false_negative_rate.value</th>\n",
       "      <td>0.183486</td>\n",
       "    </tr>\n",
       "    <tr>\n",
       "      <th>false_negative_rate.standard_deviation</th>\n",
       "      <td>0.020083</td>\n",
       "    </tr>\n",
       "    <tr>\n",
       "      <th>receiver_operating_characteristic_curve.false_positive_rates</th>\n",
       "      <td>[0.0, 0.0, 0.0, 0.0, 0.0, 0.0, 0.0, 0.0, 0.0, ...</td>\n",
       "    </tr>\n",
       "    <tr>\n",
       "      <th>receiver_operating_characteristic_curve.true_positive_rates</th>\n",
       "      <td>[0.0, 0.009174311926605505, 0.0183486238532110...</td>\n",
       "    </tr>\n",
       "    <tr>\n",
       "      <th>precision_recall_curve.precisions</th>\n",
       "      <td>[1.0, 1.0, 1.0, 1.0, 1.0, 1.0, 1.0, 1.0, 1.0, ...</td>\n",
       "    </tr>\n",
       "    <tr>\n",
       "      <th>precision_recall_curve.recalls</th>\n",
       "      <td>[0.0, 0.009174311926605505, 0.0183486238532110...</td>\n",
       "    </tr>\n",
       "    <tr>\n",
       "      <th>auc.value</th>\n",
       "      <td>0.945852</td>\n",
       "    </tr>\n",
       "    <tr>\n",
       "      <th>auc.standard_deviation</th>\n",
       "      <td>0.007867</td>\n",
       "    </tr>\n",
       "    <tr>\n",
       "      <th>au_prc.value</th>\n",
       "      <td>0.962021</td>\n",
       "    </tr>\n",
       "    <tr>\n",
       "      <th>au_prc.standard_deviation</th>\n",
       "      <td>0.005853</td>\n",
       "    </tr>\n",
       "    <tr>\n",
       "      <th>f0_5.value</th>\n",
       "      <td>0.917526</td>\n",
       "    </tr>\n",
       "    <tr>\n",
       "      <th>f0_5.standard_deviation</th>\n",
       "      <td>0.012864</td>\n",
       "    </tr>\n",
       "    <tr>\n",
       "      <th>f1.value</th>\n",
       "      <td>0.876847</td>\n",
       "    </tr>\n",
       "    <tr>\n",
       "      <th>f1.standard_deviation</th>\n",
       "      <td>0.014617</td>\n",
       "    </tr>\n",
       "    <tr>\n",
       "      <th>f2.value</th>\n",
       "      <td>0.839623</td>\n",
       "    </tr>\n",
       "    <tr>\n",
       "      <th>f2.standard_deviation</th>\n",
       "      <td>0.017815</td>\n",
       "    </tr>\n",
       "    <tr>\n",
       "      <th>f0_5_best_constant_classifier.value</th>\n",
       "      <td>0.0</td>\n",
       "    </tr>\n",
       "    <tr>\n",
       "      <th>f0_5_best_constant_classifier.standard_deviation</th>\n",
       "      <td>0.0</td>\n",
       "    </tr>\n",
       "    <tr>\n",
       "      <th>f1_best_constant_classifier.value</th>\n",
       "      <td>0.0</td>\n",
       "    </tr>\n",
       "    <tr>\n",
       "      <th>f1_best_constant_classifier.standard_deviation</th>\n",
       "      <td>0.0</td>\n",
       "    </tr>\n",
       "    <tr>\n",
       "      <th>f2_best_constant_classifier.value</th>\n",
       "      <td>0.0</td>\n",
       "    </tr>\n",
       "    <tr>\n",
       "      <th>f2_best_constant_classifier.standard_deviation</th>\n",
       "      <td>0.0</td>\n",
       "    </tr>\n",
       "  </tbody>\n",
       "</table>\n",
       "</div>"
      ],
      "text/plain": [
       "                                                                                                    0\n",
       "confusion_matrix.0.0                                                                               87\n",
       "confusion_matrix.0.1                                                                                5\n",
       "confusion_matrix.1.0                                                                               20\n",
       "confusion_matrix.1.1                                                                               89\n",
       "recall.value                                                                                 0.816514\n",
       "recall.standard_deviation                                                                    0.020083\n",
       "precision.value                                                                              0.946809\n",
       "precision.standard_deviation                                                                 0.013595\n",
       "accuracy.value                                                                               0.875622\n",
       "accuracy.standard_deviation                                                                  0.011653\n",
       "recall_best_constant_classifier.value                                                             0.0\n",
       "recall_best_constant_classifier.standard_deviation                                                0.0\n",
       "precision_best_constant_classifier.value                                                          0.0\n",
       "precision_best_constant_classifier.standard_dev...                                                0.0\n",
       "accuracy_best_constant_classifier.value                                                      0.457711\n",
       "accuracy_best_constant_classifier.standard_devi...                                           0.020693\n",
       "true_positive_rate.value                                                                     0.816514\n",
       "true_positive_rate.standard_deviation                                                        0.020083\n",
       "true_negative_rate.value                                                                     0.945652\n",
       "true_negative_rate.standard_deviation                                                        0.009996\n",
       "false_positive_rate.value                                                                    0.054348\n",
       "false_positive_rate.standard_deviation                                                       0.009996\n",
       "false_negative_rate.value                                                                    0.183486\n",
       "false_negative_rate.standard_deviation                                                       0.020083\n",
       "receiver_operating_characteristic_curve.false_p...  [0.0, 0.0, 0.0, 0.0, 0.0, 0.0, 0.0, 0.0, 0.0, ...\n",
       "receiver_operating_characteristic_curve.true_po...  [0.0, 0.009174311926605505, 0.0183486238532110...\n",
       "precision_recall_curve.precisions                   [1.0, 1.0, 1.0, 1.0, 1.0, 1.0, 1.0, 1.0, 1.0, ...\n",
       "precision_recall_curve.recalls                      [0.0, 0.009174311926605505, 0.0183486238532110...\n",
       "auc.value                                                                                    0.945852\n",
       "auc.standard_deviation                                                                       0.007867\n",
       "au_prc.value                                                                                 0.962021\n",
       "au_prc.standard_deviation                                                                    0.005853\n",
       "f0_5.value                                                                                   0.917526\n",
       "f0_5.standard_deviation                                                                      0.012864\n",
       "f1.value                                                                                     0.876847\n",
       "f1.standard_deviation                                                                        0.014617\n",
       "f2.value                                                                                     0.839623\n",
       "f2.standard_deviation                                                                        0.017815\n",
       "f0_5_best_constant_classifier.value                                                               0.0\n",
       "f0_5_best_constant_classifier.standard_deviation                                                  0.0\n",
       "f1_best_constant_classifier.value                                                                 0.0\n",
       "f1_best_constant_classifier.standard_deviation                                                    0.0\n",
       "f2_best_constant_classifier.value                                                                 0.0\n",
       "f2_best_constant_classifier.standard_deviation                                                    0.0"
      ]
     },
     "execution_count": 21,
     "metadata": {},
     "output_type": "execute_result"
    }
   ],
   "source": [
    "# Viewing metrics\n",
    "binary_metrics = baseline_job.baseline_statistics().body_dict[\"binary_classification_metrics\"]\n",
    "pd.json_normalize(binary_metrics).T"
   ]
  },
  {
   "cell_type": "code",
   "execution_count": 22,
   "id": "33446dd9-5698-4fc6-b004-7caad8291a4f",
   "metadata": {
    "tags": []
   },
   "outputs": [
    {
     "data": {
      "text/html": [
       "<div>\n",
       "<style scoped>\n",
       "    .dataframe tbody tr th:only-of-type {\n",
       "        vertical-align: middle;\n",
       "    }\n",
       "\n",
       "    .dataframe tbody tr th {\n",
       "        vertical-align: top;\n",
       "    }\n",
       "\n",
       "    .dataframe thead th {\n",
       "        text-align: right;\n",
       "    }\n",
       "</style>\n",
       "<table border=\"1\" class=\"dataframe\">\n",
       "  <thead>\n",
       "    <tr style=\"text-align: right;\">\n",
       "      <th></th>\n",
       "      <th>threshold</th>\n",
       "      <th>comparison_operator</th>\n",
       "    </tr>\n",
       "  </thead>\n",
       "  <tbody>\n",
       "    <tr>\n",
       "      <th>recall</th>\n",
       "      <td>0.816514</td>\n",
       "      <td>LessThanThreshold</td>\n",
       "    </tr>\n",
       "    <tr>\n",
       "      <th>precision</th>\n",
       "      <td>0.946809</td>\n",
       "      <td>LessThanThreshold</td>\n",
       "    </tr>\n",
       "    <tr>\n",
       "      <th>accuracy</th>\n",
       "      <td>0.875622</td>\n",
       "      <td>LessThanThreshold</td>\n",
       "    </tr>\n",
       "    <tr>\n",
       "      <th>true_positive_rate</th>\n",
       "      <td>0.816514</td>\n",
       "      <td>LessThanThreshold</td>\n",
       "    </tr>\n",
       "    <tr>\n",
       "      <th>true_negative_rate</th>\n",
       "      <td>0.945652</td>\n",
       "      <td>LessThanThreshold</td>\n",
       "    </tr>\n",
       "    <tr>\n",
       "      <th>false_positive_rate</th>\n",
       "      <td>0.054348</td>\n",
       "      <td>GreaterThanThreshold</td>\n",
       "    </tr>\n",
       "    <tr>\n",
       "      <th>false_negative_rate</th>\n",
       "      <td>0.183486</td>\n",
       "      <td>GreaterThanThreshold</td>\n",
       "    </tr>\n",
       "    <tr>\n",
       "      <th>auc</th>\n",
       "      <td>0.945852</td>\n",
       "      <td>LessThanThreshold</td>\n",
       "    </tr>\n",
       "    <tr>\n",
       "      <th>f0_5</th>\n",
       "      <td>0.917526</td>\n",
       "      <td>LessThanThreshold</td>\n",
       "    </tr>\n",
       "    <tr>\n",
       "      <th>f1</th>\n",
       "      <td>0.876847</td>\n",
       "      <td>LessThanThreshold</td>\n",
       "    </tr>\n",
       "    <tr>\n",
       "      <th>f2</th>\n",
       "      <td>0.839623</td>\n",
       "      <td>LessThanThreshold</td>\n",
       "    </tr>\n",
       "  </tbody>\n",
       "</table>\n",
       "</div>"
      ],
      "text/plain": [
       "                    threshold   comparison_operator\n",
       "recall               0.816514     LessThanThreshold\n",
       "precision            0.946809     LessThanThreshold\n",
       "accuracy             0.875622     LessThanThreshold\n",
       "true_positive_rate   0.816514     LessThanThreshold\n",
       "true_negative_rate   0.945652     LessThanThreshold\n",
       "false_positive_rate  0.054348  GreaterThanThreshold\n",
       "false_negative_rate  0.183486  GreaterThanThreshold\n",
       "auc                  0.945852     LessThanThreshold\n",
       "f0_5                 0.917526     LessThanThreshold\n",
       "f1                   0.876847     LessThanThreshold\n",
       "f2                   0.839623     LessThanThreshold"
      ]
     },
     "execution_count": 22,
     "metadata": {},
     "output_type": "execute_result"
    }
   ],
   "source": [
    "# View contraints\n",
    "pd.DataFrame(baseline_job.suggested_constraints().body_dict[\"binary_classification_constraints\"]).T"
   ]
  },
  {
   "cell_type": "markdown",
   "id": "1f5d59bd-f64b-476d-a725-f08102bc0486",
   "metadata": {},
   "source": [
    "## Continuous Model Monitoring for Model Quality Drift"
   ]
  },
  {
   "cell_type": "code",
   "execution_count": 26,
   "id": "29c56b11-b69c-4ba4-b733-66675d191df2",
   "metadata": {
    "tags": []
   },
   "outputs": [],
   "source": [
    "# Method to envoke endpoint designed to send data to a specific SageMaker \n",
    "# endpoint for model inference\n",
    "def invoke_endpoint(ep_name, file_name):\n",
    "    with open(file_name, \"r\") as f:\n",
    "        i = 0\n",
    "        # Read file line by line\n",
    "        for row in f:\n",
    "            # Send each row as payload to endpoint\n",
    "            payload = row.rstrip(\"\\n\")\n",
    "            response = session.sagemaker_runtime_client.invoke_endpoint(\n",
    "                EndpointName=endpoint_name,\n",
    "                ContentType=\"text/csv\",\n",
    "                Body=payload,\n",
    "                # Have a unique ID for each row\n",
    "                # Inference ID used to join prediciton with ground truth\n",
    "                InferenceId=str(i),\n",
    "            )[\"Body\"].read()\n",
    "            i += 1\n",
    "            sleep(1)\n",
    "# Method to continuously invoke invoke_endpoint function \n",
    "def invoke_endpoint_forever():\n",
    "    while True:\n",
    "        try:\n",
    "            invoke_endpoint(endpoint_name, \"test_data/test-Copy1.csv\")\n",
    "        # Igore exception and attempt operator again\n",
    "        except session.sagemaker_runtime_client.exceptions.ValidationError:\n",
    "            pass\n",
    "# Thread initialization and start\n",
    "thread = Thread(target=invoke_endpoint_forever)\n",
    "thread.start()"
   ]
  },
  {
   "cell_type": "code",
   "execution_count": 27,
   "id": "bdfb7e93-3e33-4b00-a19d-a18786952c8c",
   "metadata": {
    "tags": []
   },
   "outputs": [
    {
     "name": "stdout",
     "output_type": "stream",
     "text": [
      "Waiting for captures to show up............................\n",
      "Found Capture Files:\n",
      "s3://sagemaker-us-east-1-035349649198/sagemaker/InternetChurn-ModelQualityMonitor/datacapture/xgb-churn-model-quality-monitor-2024-02-28-0150/AllTraffic/2024/02/28/01/53-17-119-e26899d0-195c-408e-8577-727ead6bae21.jsonl\n",
      " s3://sagemaker-us-east-1-035349649198/sagemaker/InternetChurn-ModelQualityMonitor/datacapture/xgb-churn-model-quality-monitor-2024-02-28-0150/AllTraffic/2024/02/28/01/54-17-127-89c9930e-a4a0-48fc-bddb-96e708811f7b.jsonl\n",
      " s3://sagemaker-us-east-1-035349649198/sagemaker/InternetChurn-ModelQualityMonitor/datacapture/xgb-churn-model-quality-monitor-2024-02-28-0150/AllTraffic/2024/02/28/02/16-27-824-1b07b328-fcd5-4c91-9600-bb44b1eae14f.jsonl\n"
     ]
    }
   ],
   "source": [
    "# View captured data\n",
    "print(\"Waiting for captures to show up\", end=\"\")\n",
    "for _ in range(120):\n",
    "    # List files sorted and check if non empty\n",
    "    # Read last file\n",
    "    capture_files = sorted(S3Downloader.list(f\"{s3_capture_upload_path}/{endpoint_name}\"))\n",
    "    if capture_files:\n",
    "        capture_file = S3Downloader.read_file(capture_files[-1]).split(\"\\n\")\n",
    "        capture_record = json.loads(capture_file[0])\n",
    "        # Verify file is a capture file with inference data\n",
    "        if \"inferenceId\" in capture_record[\"eventMetadata\"]:\n",
    "            break\n",
    "    print(\".\", end=\"\", flush=True)\n",
    "    sleep(1)\n",
    "print()\n",
    "# Show last three captured files\n",
    "print(\"Found Capture Files:\")\n",
    "print(\"\\n \".join(capture_files[-3:]))"
   ]
  },
  {
   "cell_type": "code",
   "execution_count": 28,
   "id": "8bd66fa9-553a-4d67-81ee-31306a362c82",
   "metadata": {
    "tags": []
   },
   "outputs": [
    {
     "name": "stdout",
     "output_type": "stream",
     "text": [
      "{\"captureData\":{\"endpointInput\":{\"observedContentType\":\"text/csv\",\"mode\":\"INPUT\",\"data\":\"-1.0708326375420545,-0.8182815190179041,-0.34415002748619744,0.23343086069704833,-0.14826620909867583,-0.19424909784146976,1.0,1.0,0.0,1.0,0.0,0.0\",\"encoding\":\"CSV\"},\"endpointOutput\":{\"observedContentType\":\"text/csv; charset=utf-8\",\"mode\":\"OUTPUT\",\"data\":\"0.036486055701971054\\n\",\"encoding\":\"CSV\"}},\"eventMetadata\":{\"eventId\":\"2a43499b-0502-4b4f-bd02-14d8a374a075\",\"inferenceId\":\"57\",\"inferenceTime\":\"2024-02-28T02:17:25Z\"},\"eventVersion\":\"0\"}\n",
      "{\"captureData\":{\"endpointInput\":{\"observedContentType\":\"text/csv\",\"mode\":\"INPUT\",\"data\":\"-0.887683264183178,0.14277014727270668,-0.34415002748619744,-0.7882289115836785,-0.45097682232168035,-0.19424909784146976,0.0,0.0,1.0,0.0,0.0,0.0\",\"encoding\":\"CSV\"},\"endpointOutput\":{\"observedContentType\":\"text/csv; charset=utf-8\",\"mode\":\"OUTPUT\",\"data\":\"0.9995995163917542\\n\",\"encoding\":\"CSV\"}},\"eventMetadata\":{\"eventId\":\"51e6c4f5-6066-4d70-8329-b9384ce7ed7e\",\"inferenceId\":\"58\",\"inferenceTime\":\"2024-02-28T02:17:26Z\"},\"eventVersion\":\"0\"}\n"
     ]
    }
   ],
   "source": [
    "# View contents of a captured file\n",
    "print(\"\\n\".join(capture_file[-3:-1]))"
   ]
  },
  {
   "cell_type": "code",
   "execution_count": 29,
   "id": "53fe911f-d89b-49bd-9b13-c8054161031e",
   "metadata": {
    "tags": []
   },
   "outputs": [
    {
     "name": "stdout",
     "output_type": "stream",
     "text": [
      "{\n",
      "  \"captureData\": {\n",
      "    \"endpointInput\": {\n",
      "      \"observedContentType\": \"text/csv\",\n",
      "      \"mode\": \"INPUT\",\n",
      "      \"data\": \"1.577408301566023,1.2516759160695654,-0.34415002748619744,-0.7882289115836785,-0.45097682232168035,-0.19424909784146976,1.0,0.0,1.0,0.0,0.0,0.0\",\n",
      "      \"encoding\": \"CSV\"\n",
      "    },\n",
      "    \"endpointOutput\": {\n",
      "      \"observedContentType\": \"text/csv; charset=utf-8\",\n",
      "      \"mode\": \"OUTPUT\",\n",
      "      \"data\": \"0.9955226182937622\\n\",\n",
      "      \"encoding\": \"CSV\"\n",
      "    }\n",
      "  },\n",
      "  \"eventMetadata\": {\n",
      "    \"eventId\": \"de335f6c-e1c6-4401-93b2-7be7c531d0ac\",\n",
      "    \"inferenceId\": \"0\",\n",
      "    \"inferenceTime\": \"2024-02-28T02:16:27Z\"\n",
      "  },\n",
      "  \"eventVersion\": \"0\"\n",
      "}\n"
     ]
    }
   ],
   "source": [
    "# Take Python dictionary of captured record and convert to JSON\n",
    "# formatted string\n",
    "print(json.dumps(capture_record, indent=2))"
   ]
  },
  {
   "cell_type": "markdown",
   "id": "e3817bfa-b08e-4854-94fb-e5abd6ab56bd",
   "metadata": {},
   "source": [
    "## Generating Synthetic Ground Truth"
   ]
  },
  {
   "cell_type": "code",
   "execution_count": 30,
   "id": "729c6b2f-14f8-4644-bc2a-2b9af95a410b",
   "metadata": {
    "tags": []
   },
   "outputs": [],
   "source": [
    "import random\n",
    "# Function to generate ground truth data for predictions\n",
    "def ground_truth_with_id(inference_id):\n",
    "    # Use this to get consistent results\n",
    "    random.seed(inference_id)  \n",
    "    rand = random.random()\n",
    "    # Return dictionary to represent event data and ground truth data\n",
    "    return {\n",
    "        \"groundTruthData\": {\n",
    "            # Generate random positive labels for 70% of the time\n",
    "            \"data\": \"1\" if rand < 0.7 else \"0\",\n",
    "            \"encoding\": \"CSV\",\n",
    "        },\n",
    "        \"eventMetadata\": {\n",
    "            \"eventId\": str(inference_id),\n",
    "        },\n",
    "        \"eventVersion\": \"0\",\n",
    "    }\n",
    "# Function to upload ground truth records to S3\n",
    "def upload_ground_truth(records, upload_time):\n",
    "    # Serialize each record due to S3 needing a string format\n",
    "    fake_records = [json.dumps(r) for r in records]\n",
    "    data_to_upload = \"\\n\".join(fake_records)\n",
    "    # Constructing S3 URI \n",
    "    target_s3_uri = f\"{ground_truth_upload_path}/{upload_time:%Y/%m/%d/%H/%M%S}.jsonl\"\n",
    "    print(f\"Uploading {len(fake_records)} records to\", target_s3_uri)\n",
    "    # Upload to S3\n",
    "    S3Uploader.upload_string_as_file_body(data_to_upload, target_s3_uri)"
   ]
  },
  {
   "cell_type": "code",
   "execution_count": 31,
   "id": "4675d521-aa25-41e0-9fdd-6844e9592dc4",
   "metadata": {
    "tags": []
   },
   "outputs": [
    {
     "name": "stdout",
     "output_type": "stream",
     "text": [
      "Uploading 334 records to s3://sagemaker-us-east-1-035349649198/sagemaker/InternetChurn-ModelQualityMonitor/ground_truth_data/2024-02-28-01-50-14/2024/02/28/02/2019.jsonl\n"
     ]
    }
   ],
   "source": [
    "# Set ground truth records, rows sending in for inference\n",
    "# Used professor's count\n",
    "NUM_GROUND_TRUTH_RECORDS = 334  \n",
    "# Function for continuous generation and uploading process\n",
    "def generate_fake_ground_truth_forever():\n",
    "    j = 0\n",
    "    while True:\n",
    "        # Generate fake records to generate a consistent ground truth data\n",
    "        # record for each inference\n",
    "        fake_records = [ground_truth_with_id(i) for i in range(NUM_GROUND_TRUTH_RECORDS)]\n",
    "        # Upload fake records to S3\n",
    "        upload_ground_truth(fake_records, datetime.utcnow())\n",
    "        # Wait and repeat\n",
    "        j = (j + 1) % 5\n",
    "        sleep(60 * 60)  # do this once an hour\n",
    "# Threading for function to execute in the background\n",
    "gt_thread = Thread(target=generate_fake_ground_truth_forever)\n",
    "gt_thread.start()"
   ]
  },
  {
   "cell_type": "markdown",
   "id": "642dca8c-bc87-45f7-b842-4c47058aae0a",
   "metadata": {},
   "source": [
    "## Create Monitoring Schedule"
   ]
  },
  {
   "cell_type": "code",
   "execution_count": 32,
   "id": "de2c3fe7-01d1-45e9-9fd4-491cd5f86938",
   "metadata": {
    "tags": []
   },
   "outputs": [],
   "source": [
    "# Creating monitoring schedule \n",
    "churn_monitor_schedule_name = (\n",
    "    f\"xgb-internet-churn-monitoring-schedule-{datetime.utcnow():%Y-%m-%d-%H%M}\")"
   ]
  },
  {
   "cell_type": "code",
   "execution_count": 33,
   "id": "f4d8a7d8-de2e-4e3f-ae78-df343b520622",
   "metadata": {
    "tags": []
   },
   "outputs": [],
   "source": [
    "# Set up endpoint input\n",
    "endpointInput = EndpointInput(\n",
    "    endpoint_name=predictor.endpoint_name,\n",
    "    # First element of output\n",
    "    probability_attribute=\"0\",\n",
    "    # Threshold for determining cut off for classifying the inference\n",
    "    probability_threshold_attribute=0.5,\n",
    "    # S3 destination\n",
    "    destination=\"/opt/ml/processing/input_data\",)"
   ]
  },
  {
   "cell_type": "code",
   "execution_count": 34,
   "id": "accbb0b2-d038-4ed3-9934-61480df286d5",
   "metadata": {
    "tags": []
   },
   "outputs": [
    {
     "name": "stderr",
     "output_type": "stream",
     "text": [
      "INFO:sagemaker.model_monitor.model_monitoring:Creating Monitoring Schedule with name: xgb-internet-churn-monitoring-schedule-2024-02-28-0221\n"
     ]
    }
   ],
   "source": [
    "# Monitoring schedule that executes every hour\n",
    "from sagemaker.model_monitor import CronExpressionGenerator\n",
    "# Get response from monitor \n",
    "response = churn_model_quality_monitor.create_monitoring_schedule(\n",
    "    monitor_schedule_name=churn_monitor_schedule_name,\n",
    "    endpoint_input=endpointInput,\n",
    "    output_s3_uri=baseline_results_uri,\n",
    "    problem_type=\"BinaryClassification\",\n",
    "    ground_truth_input=ground_truth_upload_path,\n",
    "    constraints=baseline_job.suggested_constraints(),\n",
    "    # How frequently the monitoring job should run, enable Cloudwatch as well\n",
    "    schedule_cron_expression=CronExpressionGenerator.hourly(),\n",
    "    enable_cloudwatch_metrics=True,)"
   ]
  },
  {
   "cell_type": "code",
   "execution_count": 35,
   "id": "3b5d0943-0b0d-4b8f-810e-bd30af184228",
   "metadata": {
    "tags": []
   },
   "outputs": [
    {
     "data": {
      "text/plain": [
       "{'MonitoringScheduleArn': 'arn:aws:sagemaker:us-east-1:035349649198:monitoring-schedule/xgb-internet-churn-monitoring-schedule-2024-02-28-0221',\n",
       " 'MonitoringScheduleName': 'xgb-internet-churn-monitoring-schedule-2024-02-28-0221',\n",
       " 'MonitoringScheduleStatus': 'Scheduled',\n",
       " 'MonitoringType': 'ModelQuality',\n",
       " 'CreationTime': datetime.datetime(2024, 2, 28, 2, 21, 31, 512000, tzinfo=tzlocal()),\n",
       " 'LastModifiedTime': datetime.datetime(2024, 2, 28, 2, 21, 42, 493000, tzinfo=tzlocal()),\n",
       " 'MonitoringScheduleConfig': {'ScheduleConfig': {'ScheduleExpression': 'cron(0 * ? * * *)'},\n",
       "  'MonitoringJobDefinitionName': 'model-quality-job-definition-2024-02-28-02-21-30-962',\n",
       "  'MonitoringType': 'ModelQuality'},\n",
       " 'EndpointName': 'xgb-churn-model-quality-monitor-2024-02-28-0150',\n",
       " 'ResponseMetadata': {'RequestId': 'b112e384-9c7b-4995-bc70-04f7d33614a6',\n",
       "  'HTTPStatusCode': 200,\n",
       "  'HTTPHeaders': {'x-amzn-requestid': 'b112e384-9c7b-4995-bc70-04f7d33614a6',\n",
       "   'content-type': 'application/x-amz-json-1.1',\n",
       "   'content-length': '635',\n",
       "   'date': 'Wed, 28 Feb 2024 02:21:50 GMT'},\n",
       "  'RetryAttempts': 0}}"
      ]
     },
     "execution_count": 35,
     "metadata": {},
     "output_type": "execute_result"
    }
   ],
   "source": [
    "# Show schedule\n",
    "churn_model_quality_monitor.describe_schedule()"
   ]
  },
  {
   "cell_type": "code",
   "execution_count": 36,
   "id": "816d3b56-9a55-4fbb-88f4-0bfc161d7dcd",
   "metadata": {
    "tags": []
   },
   "outputs": [
    {
     "name": "stderr",
     "output_type": "stream",
     "text": [
      "WARNING:sagemaker.model_monitor.model_monitoring:No executions found for schedule. monitoring_schedule_name: xgb-internet-churn-monitoring-schedule-2024-02-28-0221\n"
     ]
    },
    {
     "data": {
      "text/plain": [
       "[]"
      ]
     },
     "execution_count": 36,
     "metadata": {},
     "output_type": "execute_result"
    }
   ],
   "source": [
    "# Note to team: Wait to run until a little bit before top of the hour\n",
    "executions = churn_model_quality_monitor.list_executions()\n",
    "executions"
   ]
  },
  {
   "cell_type": "code",
   "execution_count": 37,
   "id": "3e75324e-7eca-4a79-84be-0a35e0b815c4",
   "metadata": {
    "tags": []
   },
   "outputs": [
    {
     "name": "stdout",
     "output_type": "stream",
     "text": [
      "Waiting for first execution.....................................................................................................................................................................................................................................................................\n",
      "Execution found!\n"
     ]
    }
   ],
   "source": [
    "# Wait for first execution\n",
    "print(\"Waiting for first execution\", end=\"\")\n",
    "while True:\n",
    "    execution = churn_model_quality_monitor.describe_schedule().get(\n",
    "        \"LastMonitoringExecutionSummary\"\n",
    "    )\n",
    "    if execution:\n",
    "        break\n",
    "    print(\".\", end=\"\", flush=True)\n",
    "    sleep(10)\n",
    "print()\n",
    "# Let team know that an execution is found\n",
    "print(\"Execution found!\")"
   ]
  },
  {
   "cell_type": "code",
   "execution_count": 39,
   "id": "526986be-2edf-4285-9443-ecb730555a68",
   "metadata": {
    "tags": []
   },
   "outputs": [
    {
     "name": "stdout",
     "output_type": "stream",
     "text": [
      "...................."
     ]
    },
    {
     "data": {
      "text/plain": [
       "{'ProcessingInputs': [{'InputName': 'groundtruth_input_1',\n",
       "   'AppManaged': False,\n",
       "   'S3Input': {'S3Uri': 's3://sagemaker-us-east-1-035349649198/sagemaker/InternetChurn-ModelQualityMonitor/ground_truth_data/2024-02-28-01-50-14/2024/02/28/02',\n",
       "    'LocalPath': '/opt/ml/processing/groundtruth/2024/02/28/02',\n",
       "    'S3DataType': 'S3Prefix',\n",
       "    'S3InputMode': 'File',\n",
       "    'S3DataDistributionType': 'FullyReplicated',\n",
       "    'S3CompressionType': 'None'}},\n",
       "  {'InputName': 'endpoint_input_1',\n",
       "   'AppManaged': False,\n",
       "   'S3Input': {'S3Uri': 's3://sagemaker-us-east-1-035349649198/sagemaker/InternetChurn-ModelQualityMonitor/datacapture/xgb-churn-model-quality-monitor-2024-02-28-0150/AllTraffic/2024/02/28/02',\n",
       "    'LocalPath': '/opt/ml/processing/input_data/xgb-churn-model-quality-monitor-2024-02-28-0150/AllTraffic/2024/02/28/02',\n",
       "    'S3DataType': 'S3Prefix',\n",
       "    'S3InputMode': 'File',\n",
       "    'S3DataDistributionType': 'FullyReplicated',\n",
       "    'S3CompressionType': 'None'}}],\n",
       " 'ProcessingOutputConfig': {'Outputs': [{'OutputName': 'result',\n",
       "    'S3Output': {'S3Uri': 's3://sagemaker-us-east-1-035349649198/sagemaker/InternetChurn-ModelQualityMonitor/baselining/results/merge',\n",
       "     'LocalPath': '/opt/ml/processing/output',\n",
       "     'S3UploadMode': 'EndOfJob'},\n",
       "    'AppManaged': False}]},\n",
       " 'ProcessingJobName': 'groundtruth-merge-202402280300-5ca3981c669ab10d4e4675c3',\n",
       " 'ProcessingResources': {'ClusterConfig': {'InstanceCount': 1,\n",
       "   'InstanceType': 'ml.m5.xlarge',\n",
       "   'VolumeSizeInGB': 20}},\n",
       " 'StoppingCondition': {'MaxRuntimeInSeconds': 1800},\n",
       " 'AppSpecification': {'ImageUri': '156813124566.dkr.ecr.us-east-1.amazonaws.com/sagemaker-model-monitor-groundtruth-merger'},\n",
       " 'Environment': {'dataset_format': '{\"sagemakerCaptureJson\":{\"captureIndexNames\":null}}',\n",
       "  'dataset_source': '/opt/ml/processing/input_data',\n",
       "  'end_time': '2024-02-28T03:00:00Z',\n",
       "  'ground_truth_source': '/opt/ml/processing/groundtruth',\n",
       "  'monitoring_input_type': 'ENDPOINT_INPUT',\n",
       "  'output_path': '/opt/ml/processing/output',\n",
       "  'start_time': '2024-02-28T02:00:00Z'},\n",
       " 'RoleArn': 'arn:aws:iam::035349649198:role/LabRole',\n",
       " 'ProcessingJobArn': 'arn:aws:sagemaker:us-east-1:035349649198:processing-job/groundtruth-merge-202402280300-5ca3981c669ab10d4e4675c3',\n",
       " 'ProcessingJobStatus': 'InProgress',\n",
       " 'LastModifiedTime': datetime.datetime(2024, 2, 28, 3, 10, 1, 754000, tzinfo=tzlocal()),\n",
       " 'CreationTime': datetime.datetime(2024, 2, 28, 3, 10, 0, 885000, tzinfo=tzlocal()),\n",
       " 'MonitoringScheduleArn': 'arn:aws:sagemaker:us-east-1:035349649198:monitoring-schedule/xgb-internet-churn-monitoring-schedule-2024-02-28-0221',\n",
       " 'ResponseMetadata': {'RequestId': '33619f6a-dbe4-47d5-8056-e8a2770c13a2',\n",
       "  'HTTPStatusCode': 200,\n",
       "  'HTTPHeaders': {'x-amzn-requestid': '33619f6a-dbe4-47d5-8056-e8a2770c13a2',\n",
       "   'content-type': 'application/x-amz-json-1.1',\n",
       "   'content-length': '2294',\n",
       "   'date': 'Wed, 28 Feb 2024 03:10:12 GMT'},\n",
       "  'RetryAttempts': 0}}"
      ]
     },
     "execution_count": 39,
     "metadata": {},
     "output_type": "execute_result"
    }
   ],
   "source": [
    "while not executions:\n",
    "    executions = churn_model_quality_monitor.list_executions()\n",
    "    print(\".\", end=\"\", flush=True)\n",
    "    sleep(10)\n",
    "latest_execution = executions[-1]\n",
    "# Show most recent execution\n",
    "latest_execution.describe()"
   ]
  },
  {
   "cell_type": "code",
   "execution_count": 40,
   "id": "3a659449-f714-445a-9e32-fd40dd663aea",
   "metadata": {
    "tags": []
   },
   "outputs": [
    {
     "name": "stdout",
     "output_type": "stream",
     "text": [
      "Waiting for execution to finish.................................................................!\n",
      "groundtruth-merge-202402280300-5ca3981c669ab10d4e4675c3 job status: Completed\n",
      "groundtruth-merge-202402280300-5ca3981c669ab10d4e4675c3 job exit message, if any: None\n",
      "groundtruth-merge-202402280300-5ca3981c669ab10d4e4675c3 job failure reason, if any: None\n",
      "Waiting for execution to finish................................................Uploading 334 records to s3://sagemaker-us-east-1-035349649198/sagemaker/InternetChurn-ModelQualityMonitor/ground_truth_data/2024-02-28-01-50-14/2024/02/28/03/2020.jsonl\n",
      "..........................!\n",
      "model-quality-monitoring-202402280300-5ca3981c669ab10d4e4675c3 job status: Completed\n",
      "model-quality-monitoring-202402280300-5ca3981c669ab10d4e4675c3 job exit message, if any: CompletedWithViolations: Job completed successfully with 10 violations.\n",
      "model-quality-monitoring-202402280300-5ca3981c669ab10d4e4675c3 job failure reason, if any: None\n",
      "Execution status is: CompletedWithViolations\n",
      "{'MonitoringScheduleName': 'xgb-internet-churn-monitoring-schedule-2024-02-28-0221', 'ScheduledTime': datetime.datetime(2024, 2, 28, 3, 0, tzinfo=tzlocal()), 'CreationTime': datetime.datetime(2024, 2, 28, 3, 6, 19, 367000, tzinfo=tzlocal()), 'LastModifiedTime': datetime.datetime(2024, 2, 28, 3, 22, 35, 389000, tzinfo=tzlocal()), 'MonitoringExecutionStatus': 'CompletedWithViolations', 'ProcessingJobArn': 'arn:aws:sagemaker:us-east-1:035349649198:processing-job/model-quality-monitoring-202402280300-5ca3981c669ab10d4e4675c3', 'EndpointName': 'xgb-churn-model-quality-monitor-2024-02-28-0150'}\n",
      "====STOP==== \n",
      " No completed executions to inspect further. Please wait till an execution completes or investigate previously reported failures.\n"
     ]
    }
   ],
   "source": [
    "# Tells team state of execution and status\n",
    "status = execution[\"MonitoringExecutionStatus\"]\n",
    "\n",
    "while status in [\"Pending\", \"InProgress\"]:\n",
    "    print(\"Waiting for execution to finish\", end=\"\")\n",
    "    latest_execution.wait(logs=False)\n",
    "    latest_job = latest_execution.describe()\n",
    "    print()\n",
    "    print(f\"{latest_job['ProcessingJobName']} job status:\", latest_job[\"ProcessingJobStatus\"])\n",
    "    print(\n",
    "        f\"{latest_job['ProcessingJobName']} job exit message, if any:\",\n",
    "        latest_job.get(\"ExitMessage\"),\n",
    "    )\n",
    "    print(\n",
    "        f\"{latest_job['ProcessingJobName']} job failure reason, if any:\",\n",
    "        latest_job.get(\"FailureReason\"),\n",
    "    )\n",
    "    sleep(\n",
    "        30\n",
    "    )  \n",
    "    # Wait for second execution to begin\n",
    "    latest_execution = churn_model_quality_monitor.list_executions()[-1]\n",
    "    execution = churn_model_quality_monitor.describe_schedule()[\"LastMonitoringExecutionSummary\"]\n",
    "    status = execution[\"MonitoringExecutionStatus\"]\n",
    "\n",
    "print(\"Execution status is:\", status)\n",
    "\n",
    "if status != \"Completed\":\n",
    "    print(execution)\n",
    "    print(\n",
    "        \"====STOP==== \\n No completed executions to inspect further. Please wait till an execution completes or investigate previously reported failures.\"\n",
    "    )"
   ]
  },
  {
   "cell_type": "code",
   "execution_count": 41,
   "id": "b410857a-ed67-47f9-8663-f5c5308adf82",
   "metadata": {
    "tags": []
   },
   "outputs": [
    {
     "name": "stdout",
     "output_type": "stream",
     "text": [
      "Report Uri: s3://sagemaker-us-east-1-035349649198/sagemaker/InternetChurn-ModelQualityMonitor/baselining/results/xgb-churn-model-quality-monitor-2024-02-28-0150/xgb-internet-churn-monitoring-schedule-2024-02-28-0221/2024/02/28/03\n"
     ]
    }
   ],
   "source": [
    "# Show location of the report\n",
    "latest_execution = churn_model_quality_monitor.list_executions()[-1]\n",
    "report_uri = latest_execution.describe()[\"ProcessingOutputConfig\"][\"Outputs\"][0][\"S3Output\"][\n",
    "    \"S3Uri\"\n",
    "]\n",
    "print(\"Report Uri:\", report_uri)"
   ]
  },
  {
   "cell_type": "code",
   "execution_count": 42,
   "id": "8fe478d9-b5ad-45a0-9ec0-20d7cf0a4c49",
   "metadata": {
    "tags": []
   },
   "outputs": [
    {
     "data": {
      "text/html": [
       "<div>\n",
       "<style scoped>\n",
       "    .dataframe tbody tr th:only-of-type {\n",
       "        vertical-align: middle;\n",
       "    }\n",
       "\n",
       "    .dataframe tbody tr th {\n",
       "        vertical-align: top;\n",
       "    }\n",
       "\n",
       "    .dataframe thead th {\n",
       "        text-align: right;\n",
       "    }\n",
       "</style>\n",
       "<table border=\"1\" class=\"dataframe\">\n",
       "  <thead>\n",
       "    <tr style=\"text-align: right;\">\n",
       "      <th></th>\n",
       "      <th>constraint_check_type</th>\n",
       "      <th>description</th>\n",
       "      <th>metric_name</th>\n",
       "    </tr>\n",
       "  </thead>\n",
       "  <tbody>\n",
       "    <tr>\n",
       "      <th>0</th>\n",
       "      <td>LessThanThreshold</td>\n",
       "      <td>Metric auc with 0.5478350700682718 +/- 0.015239289398642797 was LessThanThreshold '0.9458516154766653'</td>\n",
       "      <td>auc</td>\n",
       "    </tr>\n",
       "    <tr>\n",
       "      <th>1</th>\n",
       "      <td>LessThanThreshold</td>\n",
       "      <td>Metric precision with 0.7653631284916201 +/- 0.015270305278741994 was LessThanThreshold '0.9468085106382979'</td>\n",
       "      <td>precision</td>\n",
       "    </tr>\n",
       "    <tr>\n",
       "      <th>2</th>\n",
       "      <td>LessThanThreshold</td>\n",
       "      <td>Metric truePositiveRate with 0.5661157024793388 +/- 0.009778008244012105 was LessThanThreshold '0.8165137614678899'</td>\n",
       "      <td>truePositiveRate</td>\n",
       "    </tr>\n",
       "    <tr>\n",
       "      <th>3</th>\n",
       "      <td>LessThanThreshold</td>\n",
       "      <td>Metric f1 with 0.65083135391924 +/- 0.010181275767075525 was LessThanThreshold '0.8768472906403939'</td>\n",
       "      <td>f1</td>\n",
       "    </tr>\n",
       "    <tr>\n",
       "      <th>4</th>\n",
       "      <td>LessThanThreshold</td>\n",
       "      <td>Metric accuracy with 0.5598802395209581 +/- 0.010089283287949334 was LessThanThreshold '0.8756218905472637'</td>\n",
       "      <td>accuracy</td>\n",
       "    </tr>\n",
       "    <tr>\n",
       "      <th>5</th>\n",
       "      <td>GreaterThanThreshold</td>\n",
       "      <td>Metric falsePositiveRate with 0.45652173913043476 +/- 0.013350980170514427 was GreaterThanThreshold '0.05434782608695652'</td>\n",
       "      <td>falsePositiveRate</td>\n",
       "    </tr>\n",
       "    <tr>\n",
       "      <th>6</th>\n",
       "      <td>LessThanThreshold</td>\n",
       "      <td>Metric trueNegativeRate with 0.5434782608695652 +/- 0.013350980170514467 was LessThanThreshold '0.9456521739130435'</td>\n",
       "      <td>trueNegativeRate</td>\n",
       "    </tr>\n",
       "    <tr>\n",
       "      <th>7</th>\n",
       "      <td>GreaterThanThreshold</td>\n",
       "      <td>Metric falseNegativeRate with 0.43388429752066116 +/- 0.009778008244012088 was GreaterThanThreshold '0.1834862385321101'</td>\n",
       "      <td>falseNegativeRate</td>\n",
       "    </tr>\n",
       "    <tr>\n",
       "      <th>8</th>\n",
       "      <td>LessThanThreshold</td>\n",
       "      <td>Metric recall with 0.5661157024793388 +/- 0.009778008244012105 was LessThanThreshold '0.8165137614678899'</td>\n",
       "      <td>recall</td>\n",
       "    </tr>\n",
       "    <tr>\n",
       "      <th>9</th>\n",
       "      <td>LessThanThreshold</td>\n",
       "      <td>Metric f2 with 0.5972101133391456 +/- 0.009672410517424079 was LessThanThreshold '0.839622641509434'</td>\n",
       "      <td>f2</td>\n",
       "    </tr>\n",
       "  </tbody>\n",
       "</table>\n",
       "</div>"
      ],
      "text/plain": [
       "  constraint_check_type  \\\n",
       "0     LessThanThreshold   \n",
       "1     LessThanThreshold   \n",
       "2     LessThanThreshold   \n",
       "3     LessThanThreshold   \n",
       "4     LessThanThreshold   \n",
       "5  GreaterThanThreshold   \n",
       "6     LessThanThreshold   \n",
       "7  GreaterThanThreshold   \n",
       "8     LessThanThreshold   \n",
       "9     LessThanThreshold   \n",
       "\n",
       "                                                                                                                 description  \\\n",
       "0                     Metric auc with 0.5478350700682718 +/- 0.015239289398642797 was LessThanThreshold '0.9458516154766653'   \n",
       "1               Metric precision with 0.7653631284916201 +/- 0.015270305278741994 was LessThanThreshold '0.9468085106382979'   \n",
       "2        Metric truePositiveRate with 0.5661157024793388 +/- 0.009778008244012105 was LessThanThreshold '0.8165137614678899'   \n",
       "3                        Metric f1 with 0.65083135391924 +/- 0.010181275767075525 was LessThanThreshold '0.8768472906403939'   \n",
       "4                Metric accuracy with 0.5598802395209581 +/- 0.010089283287949334 was LessThanThreshold '0.8756218905472637'   \n",
       "5  Metric falsePositiveRate with 0.45652173913043476 +/- 0.013350980170514427 was GreaterThanThreshold '0.05434782608695652'   \n",
       "6        Metric trueNegativeRate with 0.5434782608695652 +/- 0.013350980170514467 was LessThanThreshold '0.9456521739130435'   \n",
       "7   Metric falseNegativeRate with 0.43388429752066116 +/- 0.009778008244012088 was GreaterThanThreshold '0.1834862385321101'   \n",
       "8                  Metric recall with 0.5661157024793388 +/- 0.009778008244012105 was LessThanThreshold '0.8165137614678899'   \n",
       "9                       Metric f2 with 0.5972101133391456 +/- 0.009672410517424079 was LessThanThreshold '0.839622641509434'   \n",
       "\n",
       "         metric_name  \n",
       "0                auc  \n",
       "1          precision  \n",
       "2   truePositiveRate  \n",
       "3                 f1  \n",
       "4           accuracy  \n",
       "5  falsePositiveRate  \n",
       "6   trueNegativeRate  \n",
       "7  falseNegativeRate  \n",
       "8             recall  \n",
       "9                 f2  "
      ]
     },
     "execution_count": 42,
     "metadata": {},
     "output_type": "execute_result"
    }
   ],
   "source": [
    "# View violations made by monitoring schedule\n",
    "pd.options.display.max_colwidth = None\n",
    "violations = latest_execution.constraint_violations().body_dict[\"violations\"]\n",
    "violations_df = pd.json_normalize(violations)\n",
    "violations_df.head(10)"
   ]
  },
  {
   "cell_type": "markdown",
   "id": "1e1e4067-eb72-4bfa-a844-6b2112e114d7",
   "metadata": {},
   "source": [
    "## View Model Quality CloudWatch Metrics"
   ]
  },
  {
   "cell_type": "code",
   "execution_count": 43,
   "id": "918fae49-2ea2-41bc-ac6e-94cb418f828a",
   "metadata": {
    "tags": []
   },
   "outputs": [],
   "source": [
    "# Make a CW client \n",
    "cw_client = boto3.Session().client(\"cloudwatch\")\n",
    "namespace = \"aws/sagemaker/Endpoints/model-metrics\"\n",
    "cw_dimensions = [\n",
    "    {\"Name\": \"Endpoint\", \"Value\": endpoint_name},\n",
    "    {\"Name\": \"MonitoringSchedule\", \"Value\": churn_monitor_schedule_name},]"
   ]
  },
  {
   "cell_type": "code",
   "execution_count": 44,
   "id": "a003ef65-47c2-4671-ad1d-a1f74c83c267",
   "metadata": {
    "tags": []
   },
   "outputs": [
    {
     "name": "stdout",
     "output_type": "stream",
     "text": [
      "recall_best_constant_classifier\n",
      "au_prc\n",
      "true_negative_rate\n",
      "f0_5\n",
      "false_negative_rate\n",
      "f2_best_constant_classifier\n",
      "f1\n",
      "precision_best_constant_classifier\n",
      "false_positive_rate\n",
      "precision\n",
      "total_number_of_violations\n",
      "f1_best_constant_classifier\n",
      "true_positive_rate\n",
      "accuracy_best_constant_classifier\n",
      "f0_5_best_constant_classifier\n",
      "recall\n",
      "auc\n",
      "f2\n",
      "accuracy\n"
     ]
    }
   ],
   "source": [
    "# Show CW metrics \n",
    "paginator = cw_client.get_paginator(\"list_metrics\")\n",
    "\n",
    "for response in paginator.paginate(Dimensions=cw_dimensions, Namespace=namespace):\n",
    "    model_quality_metrics = response[\"Metrics\"]\n",
    "    for metric in model_quality_metrics:\n",
    "        print(metric[\"MetricName\"])"
   ]
  },
  {
   "cell_type": "code",
   "execution_count": 45,
   "id": "4aba0349-6278-465e-9fbf-e8237f787bf3",
   "metadata": {
    "tags": []
   },
   "outputs": [
    {
     "data": {
      "text/plain": [
       "{'ResponseMetadata': {'RequestId': '7e70d87b-8bd5-4e51-b781-28a7a3760ea8',\n",
       "  'HTTPStatusCode': 200,\n",
       "  'HTTPHeaders': {'x-amzn-requestid': '7e70d87b-8bd5-4e51-b781-28a7a3760ea8',\n",
       "   'content-type': 'text/xml',\n",
       "   'content-length': '214',\n",
       "   'date': 'Wed, 28 Feb 2024 03:23:05 GMT'},\n",
       "  'RetryAttempts': 0}}"
      ]
     },
     "execution_count": 45,
     "metadata": {},
     "output_type": "execute_result"
    }
   ],
   "source": [
    "# Create CW alarm for F2 score\n",
    "alarm_name = \"MODEL_QUALITY_F2_SCORE\"\n",
    "alarm_desc = (\n",
    "    \"Trigger an CloudWatch alarm when the f2 score drifts away from the baseline constraints\"\n",
    ")\n",
    "mdoel_quality_f2_drift_threshold = (\n",
    "    0.625  ##Setting this threshold purposefully low to see the alarm quickly.\n",
    ")\n",
    "metric_name = \"f2\"\n",
    "namespace = \"aws/sagemaker/Endpoints/model-metrics\"\n",
    "\n",
    "cw_client.put_metric_alarm(\n",
    "    AlarmName=alarm_name,\n",
    "    AlarmDescription=alarm_desc,\n",
    "    ActionsEnabled=True,\n",
    "    MetricName=metric_name,\n",
    "    Namespace=namespace,\n",
    "    Statistic=\"Average\",\n",
    "    Dimensions=[\n",
    "        {\"Name\": \"Endpoint\", \"Value\": endpoint_name},\n",
    "        {\"Name\": \"MonitoringSchedule\", \"Value\": churn_monitor_schedule_name},\n",
    "    ],\n",
    "    Period=600,\n",
    "    EvaluationPeriods=1,\n",
    "    DatapointsToAlarm=1,\n",
    "    Threshold=mdoel_quality_f2_drift_threshold,\n",
    "    ComparisonOperator=\"LessThanOrEqualToThreshold\",\n",
    "    TreatMissingData=\"breaching\",\n",
    ")"
   ]
  },
  {
   "cell_type": "code",
   "execution_count": 46,
   "id": "61a5d8d9-feb1-4d54-910c-9c083083ccc7",
   "metadata": {
    "tags": []
   },
   "outputs": [
    {
     "name": "stderr",
     "output_type": "stream",
     "text": [
      "INFO:sagemaker:Deleting Monitoring Schedule with name: xgb-internet-churn-monitoring-schedule-2024-02-28-0221\n",
      "INFO:sagemaker.model_monitor.model_monitoring:Deleting Model Quality Job Definition with name: model-quality-job-definition-2024-02-28-02-21-30-962\n"
     ]
    }
   ],
   "source": [
    "# Delete monitoring schedule\n",
    "churn_model_quality_monitor.delete_monitoring_schedule()\n",
    "sleep(60) "
   ]
  },
  {
   "cell_type": "code",
   "execution_count": 48,
   "id": "e13104b6-f2f8-4708-b870-3a1528e79673",
   "metadata": {
    "tags": []
   },
   "outputs": [
    {
     "name": "stdout",
     "output_type": "stream",
     "text": [
      "{\n",
      "    \"Endpoints\": [\n",
      "        {\n",
      "            \"EndpointName\": \"xgb-churn-model-quality-monitor-2024-02-28-0150\",\n",
      "            \"EndpointArn\": \"arn:aws:sagemaker:us-east-1:035349649198:endpoint/xgb-churn-model-quality-monitor-2024-02-28-0150\",\n",
      "            \"CreationTime\": 1709085016.161,\n",
      "            \"LastModifiedTime\": 1709085193.775,\n",
      "            \"EndpointStatus\": \"InService\"\n",
      "        }\n",
      "    ]\n",
      "}\n"
     ]
    }
   ],
   "source": [
    "!aws sagemaker list-endpoints"
   ]
  },
  {
   "cell_type": "code",
   "execution_count": null,
   "id": "02768579-5a17-4ef3-9b05-e80197d5a539",
   "metadata": {},
   "outputs": [],
   "source": []
  },
  {
   "cell_type": "code",
   "execution_count": 49,
   "id": "c01b4f5a-8e4e-48d7-bfe7-3cd94ac639c2",
   "metadata": {
    "tags": []
   },
   "outputs": [
    {
     "data": {
      "text/plain": [
       "{'ResponseMetadata': {'RequestId': '29e3ce86-53f0-4b78-a0cf-545d28c51ae2',\n",
       "  'HTTPStatusCode': 200,\n",
       "  'HTTPHeaders': {'x-amzn-requestid': '29e3ce86-53f0-4b78-a0cf-545d28c51ae2',\n",
       "   'content-type': 'application/x-amz-json-1.1',\n",
       "   'content-length': '0',\n",
       "   'date': 'Wed, 28 Feb 2024 03:35:25 GMT'},\n",
       "  'RetryAttempts': 0}}"
      ]
     },
     "execution_count": 49,
     "metadata": {},
     "output_type": "execute_result"
    }
   ],
   "source": [
    "sagemaker = boto3.client('sagemaker')\n",
    "sagemaker.delete_endpoint(EndpointName=\"xgb-churn-model-quality-monitor-2024-02-28-0150\")"
   ]
  }
 ],
 "metadata": {
  "availableInstances": [
   {
    "_defaultOrder": 0,
    "_isFastLaunch": true,
    "category": "General purpose",
    "gpuNum": 0,
    "hideHardwareSpecs": false,
    "memoryGiB": 4,
    "name": "ml.t3.medium",
    "vcpuNum": 2
   },
   {
    "_defaultOrder": 1,
    "_isFastLaunch": false,
    "category": "General purpose",
    "gpuNum": 0,
    "hideHardwareSpecs": false,
    "memoryGiB": 8,
    "name": "ml.t3.large",
    "vcpuNum": 2
   },
   {
    "_defaultOrder": 2,
    "_isFastLaunch": false,
    "category": "General purpose",
    "gpuNum": 0,
    "hideHardwareSpecs": false,
    "memoryGiB": 16,
    "name": "ml.t3.xlarge",
    "vcpuNum": 4
   },
   {
    "_defaultOrder": 3,
    "_isFastLaunch": false,
    "category": "General purpose",
    "gpuNum": 0,
    "hideHardwareSpecs": false,
    "memoryGiB": 32,
    "name": "ml.t3.2xlarge",
    "vcpuNum": 8
   },
   {
    "_defaultOrder": 4,
    "_isFastLaunch": true,
    "category": "General purpose",
    "gpuNum": 0,
    "hideHardwareSpecs": false,
    "memoryGiB": 8,
    "name": "ml.m5.large",
    "vcpuNum": 2
   },
   {
    "_defaultOrder": 5,
    "_isFastLaunch": false,
    "category": "General purpose",
    "gpuNum": 0,
    "hideHardwareSpecs": false,
    "memoryGiB": 16,
    "name": "ml.m5.xlarge",
    "vcpuNum": 4
   },
   {
    "_defaultOrder": 6,
    "_isFastLaunch": false,
    "category": "General purpose",
    "gpuNum": 0,
    "hideHardwareSpecs": false,
    "memoryGiB": 32,
    "name": "ml.m5.2xlarge",
    "vcpuNum": 8
   },
   {
    "_defaultOrder": 7,
    "_isFastLaunch": false,
    "category": "General purpose",
    "gpuNum": 0,
    "hideHardwareSpecs": false,
    "memoryGiB": 64,
    "name": "ml.m5.4xlarge",
    "vcpuNum": 16
   },
   {
    "_defaultOrder": 8,
    "_isFastLaunch": false,
    "category": "General purpose",
    "gpuNum": 0,
    "hideHardwareSpecs": false,
    "memoryGiB": 128,
    "name": "ml.m5.8xlarge",
    "vcpuNum": 32
   },
   {
    "_defaultOrder": 9,
    "_isFastLaunch": false,
    "category": "General purpose",
    "gpuNum": 0,
    "hideHardwareSpecs": false,
    "memoryGiB": 192,
    "name": "ml.m5.12xlarge",
    "vcpuNum": 48
   },
   {
    "_defaultOrder": 10,
    "_isFastLaunch": false,
    "category": "General purpose",
    "gpuNum": 0,
    "hideHardwareSpecs": false,
    "memoryGiB": 256,
    "name": "ml.m5.16xlarge",
    "vcpuNum": 64
   },
   {
    "_defaultOrder": 11,
    "_isFastLaunch": false,
    "category": "General purpose",
    "gpuNum": 0,
    "hideHardwareSpecs": false,
    "memoryGiB": 384,
    "name": "ml.m5.24xlarge",
    "vcpuNum": 96
   },
   {
    "_defaultOrder": 12,
    "_isFastLaunch": false,
    "category": "General purpose",
    "gpuNum": 0,
    "hideHardwareSpecs": false,
    "memoryGiB": 8,
    "name": "ml.m5d.large",
    "vcpuNum": 2
   },
   {
    "_defaultOrder": 13,
    "_isFastLaunch": false,
    "category": "General purpose",
    "gpuNum": 0,
    "hideHardwareSpecs": false,
    "memoryGiB": 16,
    "name": "ml.m5d.xlarge",
    "vcpuNum": 4
   },
   {
    "_defaultOrder": 14,
    "_isFastLaunch": false,
    "category": "General purpose",
    "gpuNum": 0,
    "hideHardwareSpecs": false,
    "memoryGiB": 32,
    "name": "ml.m5d.2xlarge",
    "vcpuNum": 8
   },
   {
    "_defaultOrder": 15,
    "_isFastLaunch": false,
    "category": "General purpose",
    "gpuNum": 0,
    "hideHardwareSpecs": false,
    "memoryGiB": 64,
    "name": "ml.m5d.4xlarge",
    "vcpuNum": 16
   },
   {
    "_defaultOrder": 16,
    "_isFastLaunch": false,
    "category": "General purpose",
    "gpuNum": 0,
    "hideHardwareSpecs": false,
    "memoryGiB": 128,
    "name": "ml.m5d.8xlarge",
    "vcpuNum": 32
   },
   {
    "_defaultOrder": 17,
    "_isFastLaunch": false,
    "category": "General purpose",
    "gpuNum": 0,
    "hideHardwareSpecs": false,
    "memoryGiB": 192,
    "name": "ml.m5d.12xlarge",
    "vcpuNum": 48
   },
   {
    "_defaultOrder": 18,
    "_isFastLaunch": false,
    "category": "General purpose",
    "gpuNum": 0,
    "hideHardwareSpecs": false,
    "memoryGiB": 256,
    "name": "ml.m5d.16xlarge",
    "vcpuNum": 64
   },
   {
    "_defaultOrder": 19,
    "_isFastLaunch": false,
    "category": "General purpose",
    "gpuNum": 0,
    "hideHardwareSpecs": false,
    "memoryGiB": 384,
    "name": "ml.m5d.24xlarge",
    "vcpuNum": 96
   },
   {
    "_defaultOrder": 20,
    "_isFastLaunch": false,
    "category": "General purpose",
    "gpuNum": 0,
    "hideHardwareSpecs": true,
    "memoryGiB": 0,
    "name": "ml.geospatial.interactive",
    "supportedImageNames": [
     "sagemaker-geospatial-v1-0"
    ],
    "vcpuNum": 0
   },
   {
    "_defaultOrder": 21,
    "_isFastLaunch": true,
    "category": "Compute optimized",
    "gpuNum": 0,
    "hideHardwareSpecs": false,
    "memoryGiB": 4,
    "name": "ml.c5.large",
    "vcpuNum": 2
   },
   {
    "_defaultOrder": 22,
    "_isFastLaunch": false,
    "category": "Compute optimized",
    "gpuNum": 0,
    "hideHardwareSpecs": false,
    "memoryGiB": 8,
    "name": "ml.c5.xlarge",
    "vcpuNum": 4
   },
   {
    "_defaultOrder": 23,
    "_isFastLaunch": false,
    "category": "Compute optimized",
    "gpuNum": 0,
    "hideHardwareSpecs": false,
    "memoryGiB": 16,
    "name": "ml.c5.2xlarge",
    "vcpuNum": 8
   },
   {
    "_defaultOrder": 24,
    "_isFastLaunch": false,
    "category": "Compute optimized",
    "gpuNum": 0,
    "hideHardwareSpecs": false,
    "memoryGiB": 32,
    "name": "ml.c5.4xlarge",
    "vcpuNum": 16
   },
   {
    "_defaultOrder": 25,
    "_isFastLaunch": false,
    "category": "Compute optimized",
    "gpuNum": 0,
    "hideHardwareSpecs": false,
    "memoryGiB": 72,
    "name": "ml.c5.9xlarge",
    "vcpuNum": 36
   },
   {
    "_defaultOrder": 26,
    "_isFastLaunch": false,
    "category": "Compute optimized",
    "gpuNum": 0,
    "hideHardwareSpecs": false,
    "memoryGiB": 96,
    "name": "ml.c5.12xlarge",
    "vcpuNum": 48
   },
   {
    "_defaultOrder": 27,
    "_isFastLaunch": false,
    "category": "Compute optimized",
    "gpuNum": 0,
    "hideHardwareSpecs": false,
    "memoryGiB": 144,
    "name": "ml.c5.18xlarge",
    "vcpuNum": 72
   },
   {
    "_defaultOrder": 28,
    "_isFastLaunch": false,
    "category": "Compute optimized",
    "gpuNum": 0,
    "hideHardwareSpecs": false,
    "memoryGiB": 192,
    "name": "ml.c5.24xlarge",
    "vcpuNum": 96
   },
   {
    "_defaultOrder": 29,
    "_isFastLaunch": true,
    "category": "Accelerated computing",
    "gpuNum": 1,
    "hideHardwareSpecs": false,
    "memoryGiB": 16,
    "name": "ml.g4dn.xlarge",
    "vcpuNum": 4
   },
   {
    "_defaultOrder": 30,
    "_isFastLaunch": false,
    "category": "Accelerated computing",
    "gpuNum": 1,
    "hideHardwareSpecs": false,
    "memoryGiB": 32,
    "name": "ml.g4dn.2xlarge",
    "vcpuNum": 8
   },
   {
    "_defaultOrder": 31,
    "_isFastLaunch": false,
    "category": "Accelerated computing",
    "gpuNum": 1,
    "hideHardwareSpecs": false,
    "memoryGiB": 64,
    "name": "ml.g4dn.4xlarge",
    "vcpuNum": 16
   },
   {
    "_defaultOrder": 32,
    "_isFastLaunch": false,
    "category": "Accelerated computing",
    "gpuNum": 1,
    "hideHardwareSpecs": false,
    "memoryGiB": 128,
    "name": "ml.g4dn.8xlarge",
    "vcpuNum": 32
   },
   {
    "_defaultOrder": 33,
    "_isFastLaunch": false,
    "category": "Accelerated computing",
    "gpuNum": 4,
    "hideHardwareSpecs": false,
    "memoryGiB": 192,
    "name": "ml.g4dn.12xlarge",
    "vcpuNum": 48
   },
   {
    "_defaultOrder": 34,
    "_isFastLaunch": false,
    "category": "Accelerated computing",
    "gpuNum": 1,
    "hideHardwareSpecs": false,
    "memoryGiB": 256,
    "name": "ml.g4dn.16xlarge",
    "vcpuNum": 64
   },
   {
    "_defaultOrder": 35,
    "_isFastLaunch": false,
    "category": "Accelerated computing",
    "gpuNum": 1,
    "hideHardwareSpecs": false,
    "memoryGiB": 61,
    "name": "ml.p3.2xlarge",
    "vcpuNum": 8
   },
   {
    "_defaultOrder": 36,
    "_isFastLaunch": false,
    "category": "Accelerated computing",
    "gpuNum": 4,
    "hideHardwareSpecs": false,
    "memoryGiB": 244,
    "name": "ml.p3.8xlarge",
    "vcpuNum": 32
   },
   {
    "_defaultOrder": 37,
    "_isFastLaunch": false,
    "category": "Accelerated computing",
    "gpuNum": 8,
    "hideHardwareSpecs": false,
    "memoryGiB": 488,
    "name": "ml.p3.16xlarge",
    "vcpuNum": 64
   },
   {
    "_defaultOrder": 38,
    "_isFastLaunch": false,
    "category": "Accelerated computing",
    "gpuNum": 8,
    "hideHardwareSpecs": false,
    "memoryGiB": 768,
    "name": "ml.p3dn.24xlarge",
    "vcpuNum": 96
   },
   {
    "_defaultOrder": 39,
    "_isFastLaunch": false,
    "category": "Memory Optimized",
    "gpuNum": 0,
    "hideHardwareSpecs": false,
    "memoryGiB": 16,
    "name": "ml.r5.large",
    "vcpuNum": 2
   },
   {
    "_defaultOrder": 40,
    "_isFastLaunch": false,
    "category": "Memory Optimized",
    "gpuNum": 0,
    "hideHardwareSpecs": false,
    "memoryGiB": 32,
    "name": "ml.r5.xlarge",
    "vcpuNum": 4
   },
   {
    "_defaultOrder": 41,
    "_isFastLaunch": false,
    "category": "Memory Optimized",
    "gpuNum": 0,
    "hideHardwareSpecs": false,
    "memoryGiB": 64,
    "name": "ml.r5.2xlarge",
    "vcpuNum": 8
   },
   {
    "_defaultOrder": 42,
    "_isFastLaunch": false,
    "category": "Memory Optimized",
    "gpuNum": 0,
    "hideHardwareSpecs": false,
    "memoryGiB": 128,
    "name": "ml.r5.4xlarge",
    "vcpuNum": 16
   },
   {
    "_defaultOrder": 43,
    "_isFastLaunch": false,
    "category": "Memory Optimized",
    "gpuNum": 0,
    "hideHardwareSpecs": false,
    "memoryGiB": 256,
    "name": "ml.r5.8xlarge",
    "vcpuNum": 32
   },
   {
    "_defaultOrder": 44,
    "_isFastLaunch": false,
    "category": "Memory Optimized",
    "gpuNum": 0,
    "hideHardwareSpecs": false,
    "memoryGiB": 384,
    "name": "ml.r5.12xlarge",
    "vcpuNum": 48
   },
   {
    "_defaultOrder": 45,
    "_isFastLaunch": false,
    "category": "Memory Optimized",
    "gpuNum": 0,
    "hideHardwareSpecs": false,
    "memoryGiB": 512,
    "name": "ml.r5.16xlarge",
    "vcpuNum": 64
   },
   {
    "_defaultOrder": 46,
    "_isFastLaunch": false,
    "category": "Memory Optimized",
    "gpuNum": 0,
    "hideHardwareSpecs": false,
    "memoryGiB": 768,
    "name": "ml.r5.24xlarge",
    "vcpuNum": 96
   },
   {
    "_defaultOrder": 47,
    "_isFastLaunch": false,
    "category": "Accelerated computing",
    "gpuNum": 1,
    "hideHardwareSpecs": false,
    "memoryGiB": 16,
    "name": "ml.g5.xlarge",
    "vcpuNum": 4
   },
   {
    "_defaultOrder": 48,
    "_isFastLaunch": false,
    "category": "Accelerated computing",
    "gpuNum": 1,
    "hideHardwareSpecs": false,
    "memoryGiB": 32,
    "name": "ml.g5.2xlarge",
    "vcpuNum": 8
   },
   {
    "_defaultOrder": 49,
    "_isFastLaunch": false,
    "category": "Accelerated computing",
    "gpuNum": 1,
    "hideHardwareSpecs": false,
    "memoryGiB": 64,
    "name": "ml.g5.4xlarge",
    "vcpuNum": 16
   },
   {
    "_defaultOrder": 50,
    "_isFastLaunch": false,
    "category": "Accelerated computing",
    "gpuNum": 1,
    "hideHardwareSpecs": false,
    "memoryGiB": 128,
    "name": "ml.g5.8xlarge",
    "vcpuNum": 32
   },
   {
    "_defaultOrder": 51,
    "_isFastLaunch": false,
    "category": "Accelerated computing",
    "gpuNum": 1,
    "hideHardwareSpecs": false,
    "memoryGiB": 256,
    "name": "ml.g5.16xlarge",
    "vcpuNum": 64
   },
   {
    "_defaultOrder": 52,
    "_isFastLaunch": false,
    "category": "Accelerated computing",
    "gpuNum": 4,
    "hideHardwareSpecs": false,
    "memoryGiB": 192,
    "name": "ml.g5.12xlarge",
    "vcpuNum": 48
   },
   {
    "_defaultOrder": 53,
    "_isFastLaunch": false,
    "category": "Accelerated computing",
    "gpuNum": 4,
    "hideHardwareSpecs": false,
    "memoryGiB": 384,
    "name": "ml.g5.24xlarge",
    "vcpuNum": 96
   },
   {
    "_defaultOrder": 54,
    "_isFastLaunch": false,
    "category": "Accelerated computing",
    "gpuNum": 8,
    "hideHardwareSpecs": false,
    "memoryGiB": 768,
    "name": "ml.g5.48xlarge",
    "vcpuNum": 192
   },
   {
    "_defaultOrder": 55,
    "_isFastLaunch": false,
    "category": "Accelerated computing",
    "gpuNum": 8,
    "hideHardwareSpecs": false,
    "memoryGiB": 1152,
    "name": "ml.p4d.24xlarge",
    "vcpuNum": 96
   },
   {
    "_defaultOrder": 56,
    "_isFastLaunch": false,
    "category": "Accelerated computing",
    "gpuNum": 8,
    "hideHardwareSpecs": false,
    "memoryGiB": 1152,
    "name": "ml.p4de.24xlarge",
    "vcpuNum": 96
   },
   {
    "_defaultOrder": 57,
    "_isFastLaunch": false,
    "category": "Accelerated computing",
    "gpuNum": 0,
    "hideHardwareSpecs": false,
    "memoryGiB": 32,
    "name": "ml.trn1.2xlarge",
    "vcpuNum": 8
   },
   {
    "_defaultOrder": 58,
    "_isFastLaunch": false,
    "category": "Accelerated computing",
    "gpuNum": 0,
    "hideHardwareSpecs": false,
    "memoryGiB": 512,
    "name": "ml.trn1.32xlarge",
    "vcpuNum": 128
   },
   {
    "_defaultOrder": 59,
    "_isFastLaunch": false,
    "category": "Accelerated computing",
    "gpuNum": 0,
    "hideHardwareSpecs": false,
    "memoryGiB": 512,
    "name": "ml.trn1n.32xlarge",
    "vcpuNum": 128
   }
  ],
  "instance_type": "ml.t3.medium",
  "kernelspec": {
   "display_name": "Python 3 (Data Science 3.0)",
   "language": "python",
   "name": "python3__SAGEMAKER_INTERNAL__arn:aws:sagemaker:us-east-1:081325390199:image/sagemaker-data-science-310-v1"
  },
  "language_info": {
   "codemirror_mode": {
    "name": "ipython",
    "version": 3
   },
   "file_extension": ".py",
   "mimetype": "text/x-python",
   "name": "python",
   "nbconvert_exporter": "python",
   "pygments_lexer": "ipython3",
   "version": "3.10.6"
  }
 },
 "nbformat": 4,
 "nbformat_minor": 5
}
